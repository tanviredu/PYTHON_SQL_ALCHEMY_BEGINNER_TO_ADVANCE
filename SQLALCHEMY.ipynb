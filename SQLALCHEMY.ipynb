{
  "nbformat": 4,
  "nbformat_minor": 0,
  "metadata": {
    "colab": {
      "name": "SQLALCHEMY.ipynb",
      "provenance": [],
      "authorship_tag": "ABX9TyOFk1UM1JfesGl7svDSGu/f",
      "include_colab_link": true
    },
    "kernelspec": {
      "name": "python3",
      "display_name": "Python 3"
    }
  },
  "cells": [
    {
      "cell_type": "markdown",
      "metadata": {
        "id": "view-in-github",
        "colab_type": "text"
      },
      "source": [
        "<a href=\"https://colab.research.google.com/github/tanviredu/PYTHON_SQL_ALCHEMY_BEGINNER_TO_ADVANCE/blob/master/SQLALCHEMY.ipynb\" target=\"_parent\"><img src=\"https://colab.research.google.com/assets/colab-badge.svg\" alt=\"Open In Colab\"/></a>"
      ]
    },
    {
      "cell_type": "code",
      "metadata": {
        "id": "FmoMfH76uhrz",
        "colab_type": "code",
        "colab": {
          "resources": {
            "http://localhost:8080/nbextensions/google.colab/files.js": {
              "data": "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",
              "ok": true,
              "headers": [
                [
                  "content-type",
                  "application/javascript"
                ]
              ],
              "status": 200,
              "status_text": ""
            }
          },
          "base_uri": "https://localhost:8080/",
          "height": 74
        },
        "outputId": "bc1cccd0-97cb-419c-b95d-671430c9c1ab"
      },
      "source": [
        "from google.colab import files\n",
        "uploaded = files.upload()"
      ],
      "execution_count": 12,
      "outputs": [
        {
          "output_type": "display_data",
          "data": {
            "text/html": [
              "\n",
              "     <input type=\"file\" id=\"files-8fa1e0a9-608d-46d8-bb49-50495b2fed5e\" name=\"files[]\" multiple disabled />\n",
              "     <output id=\"result-8fa1e0a9-608d-46d8-bb49-50495b2fed5e\">\n",
              "      Upload widget is only available when the cell has been executed in the\n",
              "      current browser session. Please rerun this cell to enable.\n",
              "      </output>\n",
              "      <script src=\"/nbextensions/google.colab/files.js\"></script> "
            ],
            "text/plain": [
              "<IPython.core.display.HTML object>"
            ]
          },
          "metadata": {
            "tags": []
          }
        },
        {
          "output_type": "stream",
          "text": [
            "Saving heroes.db to heroes.db\n"
          ],
          "name": "stdout"
        }
      ]
    },
    {
      "cell_type": "code",
      "metadata": {
        "id": "jQ_k47Aev1Cs",
        "colab_type": "code",
        "colab": {}
      },
      "source": [
        "\n"
      ],
      "execution_count": 0,
      "outputs": []
    },
    {
      "cell_type": "markdown",
      "metadata": {
        "id": "Z9RcluIQyudy",
        "colab_type": "text"
      },
      "source": [
        "![alt text](https://raw.githubusercontent.com/tanviredu/PYTHON_SQL_ALCHEMY_BEGINNER_TO_ADVANCE/master/asset/schema.PNG)"
      ]
    },
    {
      "cell_type": "code",
      "metadata": {
        "id": "gn6xe6DlzqWD",
        "colab_type": "code",
        "colab": {}
      },
      "source": [
        "## connct to the database\n",
        "from sqlalchemy import create_engine\n",
        "engine = create_engine(\"sqlite:///heroes.db\")\n",
        "connection = engine.connect()"
      ],
      "execution_count": 0,
      "outputs": []
    },
    {
      "cell_type": "code",
      "metadata": {
        "id": "hLgdIaKm1o3T",
        "colab_type": "code",
        "colab": {
          "base_uri": "https://localhost:8080/",
          "height": 88
        },
        "outputId": "6615b6f8-fd25-4f9a-8932-3574402f42f9"
      },
      "source": [
        "## making a  quary in the database user table\n",
        "query = \"SELECT * FROM users\"\n",
        "results = connection.execute(query)\n",
        "print(results)\n",
        "## for fetching one row \n",
        "print(results.fetchone())\n",
        "\n",
        "## for fetching all the row\n",
        "print(results.fetchall())"
      ],
      "execution_count": 14,
      "outputs": [
        {
          "output_type": "stream",
          "text": [
            "<sqlalchemy.engine.result.ResultProxy object at 0x7fdde97c9b70>\n",
            "(1, 'goldenpanda238')\n",
            "[(2, 'saddog275'), (3, 'angrypeacock368'), (4, 'yellowladybug224'), (5, 'whitebird874'), (6, 'reddog184'), (7, 'organicleopard173'), (8, 'goldenbutterfly544'), (9, 'beautifulrabbit672'), (10, 'organicfrog423'), (11, 'beautifulfish857'), (12, 'brownbutterfly255'), (13, 'crazyduck274'), (14, 'ticklishgorilla977'), (15, 'greenpeacock149'), (16, 'greenrabbit428'), (17, 'tinyfrog679'), (18, 'whitesnake294'), (19, 'browntiger495'), (20, 'bluegoose997'), (21, 'purplecat169'), (22, 'organiczebra344'), (23, 'orangebear794'), (24, 'ticklishostrich231'), (25, 'smallbear966'), (26, 'beautifulfish291'), (27, 'bluetiger782'), (28, 'organicladybug261'), (29, 'orangewolf664'), (30, 'redduck634'), (31, 'goldenpanda965'), (32, 'beautifulwolf115'), (33, 'yellowpanda238'), (34, 'redsnake762'), (35, 'organicbutterfly164'), (36, 'blackelephant577'), (37, 'silverostrich674'), (38, 'redrabbit119'), (39, 'organickoala908'), (40, 'crazygorilla440'), (41, 'yellowtiger845'), (42, 'brownfrog314'), (43, 'angrysnake569'), (44, 'smallwolf710'), (45, 'purpleelephant535'), (46, 'tinymeercat543'), (47, 'heavykoala295'), (48, 'bigfrog380'), (49, 'redbutterfly352'), (50, 'silverdog793'), (51, 'bluegoose473'), (52, 'greencat542'), (53, 'organicbear157'), (54, 'redladybug144'), (55, 'heavylion809'), (56, 'tinybear408'), (57, 'sadlion151'), (58, 'happysnake390'), (59, 'orangewolf991'), (60, 'purplecat695'), (61, 'tinyostrich164'), (62, 'lazymeercat654'), (63, 'ticklishgorilla263'), (64, 'blueelephant525'), (65, 'smallpeacock826'), (66, 'greenelephant772'), (67, 'bigleopard255'), (68, 'blackkoala578'), (69, 'crazyswan574'), (70, 'crazygoose890'), (71, 'blacktiger707'), (72, 'bluepeacock792'), (73, 'purplezebra714'), (74, 'ticklishkoala575'), (75, 'yellowswan985'), (76, 'bigfish328'), (77, 'sadgorilla411'), (78, 'bluesnake127'), (79, 'redbear427'), (80, 'bluemeercat376'), (81, 'sadmouse789'), (82, 'bigleopard505'), (83, 'silvergoose523'), (84, 'lazyswan103'), (85, 'redsnake414'), (86, 'happyzebra356'), (87, 'greenpanda944'), (88, 'smallsnake665'), (89, 'greenlion741'), (90, 'crazyswan604'), (91, 'ticklishrabbit119'), (92, 'tinybear161'), (93, 'smalldog469'), (94, 'brownrabbit687'), (95, 'silverleopard909'), (96, 'silverduck124'), (97, 'whitedog720'), (98, 'bluepeacock738'), (99, 'purpleleopard787'), (100, 'beautifulcat980'), (101, 'organickoala251'), (102, 'purplewolf697'), (103, 'yellowpanda922'), (104, 'blueostrich632'), (105, 'beautifulbear882'), (106, 'smallsnake961'), (107, 'sadwolf876'), (108, 'goldenlion724'), (109, 'redmeercat843'), (110, 'yellowkoala977'), (111, 'happylion622'), (112, 'redfrog639'), (113, 'silverpanda822'), (114, 'smallwolf414'), (115, 'smallfrog166'), (116, 'bigmeercat552'), (117, 'blacklion550'), (118, 'ticklishlion995'), (119, 'whiteostrich801'), (120, 'greenbird354'), (121, 'bluemeercat495'), (122, 'sadcat642'), (123, 'orangefrog705'), (124, 'whitebutterfly119'), (125, 'brownsnake452'), (126, 'redbutterfly161'), (127, 'ticklishpanda482'), (128, 'tinyfish934'), (129, 'bigrabbit623'), (130, 'whitegoose157'), (131, 'brownduck384'), (132, 'greenduck217'), (133, 'redmouse593'), (134, 'happylion376'), (135, 'bluecat719'), (136, 'smallswan761'), (137, 'happyleopard484'), (138, 'greenelephant965'), (139, 'purplemouse530'), (140, 'angryfrog165'), (141, 'greenwolf828'), (142, 'whiterabbit561'), (143, 'silvergorilla120'), (144, 'brownlion706'), (145, 'purplecat690'), (146, 'crazycat138'), (147, 'sadswan910'), (148, 'orangefish778'), (149, 'brownbutterfly791'), (150, 'lazywolf761'), (151, 'angryelephant837'), (152, 'sadgoose628'), (153, 'blackcat716'), (154, 'happyfrog265'), (155, 'greendog825'), (156, 'angrygorilla950'), (157, 'orangezebra688'), (158, 'smallfrog574'), (159, 'orangeelephant103'), (160, 'lazyfrog902'), (161, 'bigbear844'), (162, 'happyfrog608'), (163, 'tinydog558'), (164, 'orangedog802'), (165, 'silverzebra821'), (166, 'beautifulelephant860'), (167, 'orangegorilla884'), (168, 'redcat933'), (169, 'ticklishgorilla929'), (170, 'smallelephant640'), (171, 'tinyzebra562'), (172, 'smallbear259'), (173, 'ticklishsnake264'), (174, 'tinybutterfly939'), (175, 'ticklishtiger737'), (176, 'sadbutterfly109'), (177, 'yellowdog653'), (178, 'beautifulzebra936'), (179, 'bigsnake840'), (180, 'greenmouse569'), (181, 'redsnake872'), (182, 'brownladybug440'), (183, 'angryleopard879'), (184, 'ticklishelephant375'), (185, 'orangezebra865'), (186, 'lazymouse604'), (187, 'ticklishswan951'), (188, 'bigsnake591'), (189, 'crazypanda156'), (190, 'organicsnake631'), (191, 'heavyelephant169'), (192, 'goldencat691'), (193, 'happykoala361'), (194, 'sadmouse603'), (195, 'heavyostrich934'), (196, 'purpleostrich835'), (197, 'greenbear816'), (198, 'organicfrog883'), (199, 'heavypeacock959'), (200, 'beautifulrabbit354'), (201, 'purpledog930'), (202, 'orangeelephant860'), (203, 'smallbird990'), (204, 'whitegoose430'), (205, 'whitesnake478'), (206, 'purpleduck203'), (207, 'crazylion250'), (208, 'happysnake316'), (209, 'silverbutterfly922'), (210, 'bluewolf439'), (211, 'silverduck169'), (212, 'greenrabbit961'), (213, 'beautifulsnake523'), (214, 'beautifulsnake934'), (215, 'heavyzebra986'), (216, 'blueleopard510'), (217, 'silvercat119'), (218, 'bigleopard341'), (219, 'goldenmeercat782'), (220, 'happylion406'), (221, 'yellowtiger767'), (222, 'brownlion897'), (223, 'purplezebra855'), (224, 'ticklishleopard530'), (225, 'whitebutterfly922'), (226, 'bigrabbit514'), (227, 'silvermeercat590'), (228, 'crazydog638'), (229, 'bluebutterfly136'), (230, 'yellowbird548'), (231, 'redmouse572'), (232, 'happytiger666'), (233, 'brownbird596'), (234, 'organiclion831'), (235, 'blacksnake815'), (236, 'heavytiger451'), (237, 'bigcat629'), (238, 'orangefish416'), (239, 'heavybear888'), (240, 'organicmeercat106'), (241, 'orangeostrich968'), (242, 'silverfish532'), (243, 'orangeladybug741'), (244, 'crazymouse543'), (245, 'orangetiger340'), (246, 'silvergoose353'), (247, 'greenlion375'), (248, 'lazysnake772'), (249, 'yellowkoala303'), (250, 'happyzebra156'), (251, 'happyladybug148'), (252, 'blackpeacock228'), (253, 'bigleopard460'), (254, 'happygorilla166'), (255, 'smalllion706'), (256, 'purplepanda548'), (257, 'redgoose920'), (258, 'silvertiger947'), (259, 'yellowmouse505'), (260, 'sadpeacock712'), (261, 'redelephant283'), (262, 'happysnake700'), (263, 'redsnake737'), (264, 'bigbird511'), (265, 'heavyladybug218'), (266, 'goldenleopard100'), (267, 'lazygoose710'), (268, 'redostrich178'), (269, 'goldenswan427'), (270, 'bigkoala911'), (271, 'smallladybug935'), (272, 'browndog664'), (273, 'crazytiger472'), (274, 'angryostrich212'), (275, 'brownsnake601'), (276, 'yellowpanda119'), (277, 'bigmeercat124'), (278, 'greenkoala349'), (279, 'yellowgorilla376'), (280, 'angryduck334'), (281, 'greenmouse110'), (282, 'happypanda475'), (283, 'blackfrog748'), (284, 'smallgorilla428'), (285, 'crazymouse163'), (286, 'bigpeacock852'), (287, 'tinypeacock581'), (288, 'happyfish714'), (289, 'browncat550'), (290, 'smallfrog380'), (291, 'beautifullion156'), (292, 'ticklishfrog880'), (293, 'orangepeacock160'), (294, 'goldenladybug754'), (295, 'crazygoose971'), (296, 'crazypanda648'), (297, 'angryelephant491'), (298, 'silverrabbit651'), (299, 'organicostrich684'), (300, 'orangegorilla623'), (301, 'brownbutterfly663'), (302, 'purplefish509'), (303, 'yellowrabbit114'), (304, 'silverpanda186'), (305, 'blackbird791'), (306, 'happywolf673'), (307, 'happyswan401'), (308, 'orangewolf848'), (309, 'sadpanda790'), (310, 'angrymouse859'), (311, 'yellowtiger296'), (312, 'bigwolf979'), (313, 'angrydog619'), (314, 'angrytiger972'), (315, 'purplemeercat145'), (316, 'bigsnake995'), (317, 'organicbutterfly214'), (318, 'smalldog932'), (319, 'heavyladybug749'), (320, 'bigkoala806'), (321, 'crazywolf126'), (322, 'ticklishbear971'), (323, 'tinymouse166'), (324, 'purplekoala288'), (325, 'goldengorilla915'), (326, 'beautifulpanda748'), (327, 'bluefish476'), (328, 'angryfrog199'), (329, 'happyladybug514'), (330, 'heavyrabbit370'), (331, 'bluekoala628'), (332, 'whiterabbit539'), (333, 'redlion266'), (334, 'happyduck170'), (335, 'brownbear387'), (336, 'tinydog434'), (337, 'greenbutterfly680'), (338, 'angryswan765'), (339, 'whitegorilla368'), (340, 'goldenpeacock961'), (341, 'lazycat695'), (342, 'bluefrog506'), (343, 'goldenleopard228'), (344, 'smallostrich679'), (345, 'smalldog841'), (346, 'redduck378'), (347, 'bigrabbit116'), (348, 'yellowbear814'), (349, 'tinyduck810'), (350, 'whitekoala665'), (351, 'orangetiger551'), (352, 'tinyswan863'), (353, 'blueladybug287'), (354, 'orangeelephant231'), (355, 'lazypanda452'), (356, 'goldenduck194'), (357, 'tinywolf594'), (358, 'beautifulrabbit474'), (359, 'heavyfish312'), (360, 'yellowbird300'), (361, 'yellowmeercat384'), (362, 'purpleladybug876'), (363, 'greenbear978'), (364, 'ticklishtiger920'), (365, 'biggoose475'), (366, 'silverostrich955'), (367, 'organicpanda961'), (368, 'blackladybug263'), (369, 'smallpeacock870'), (370, 'silvercat652'), (371, 'crazymouse567'), (372, 'lazyleopard706'), (373, 'whitedog523'), (374, 'bigbutterfly887'), (375, 'purplekoala338'), (376, 'purplefish281'), (377, 'whitemouse817'), (378, 'angrymeercat384'), (379, 'biglion565'), (380, 'bluegorilla587'), (381, 'crazymouse845'), (382, 'beautifulfish244'), (383, 'purplefish995'), (384, 'beautifulostrich927'), (385, 'angrygorilla698'), (386, 'biggorilla522'), (387, 'whitemouse160'), (388, 'angryleopard747'), (389, 'happydog684'), (390, 'whitedog418'), (391, 'happybear291'), (392, 'ticklishbird774'), (393, 'browncat382'), (394, 'organicduck205'), (395, 'happyostrich866'), (396, 'beautifulbutterfly107'), (397, 'redfrog771'), (398, 'brownleopard245'), (399, 'greengoose807'), (400, 'yellowleopard288'), (401, 'greenrabbit563'), (402, 'beautifulrabbit315'), (403, 'orangemouse174'), (404, 'ticklishfrog699'), (405, 'lazygorilla457'), (406, 'orangemouse901'), (407, 'orangebutterfly476'), (408, 'crazygorilla589'), (409, 'angrymouse336'), (410, 'heavyfish435'), (411, 'bluepeacock885'), (412, 'greenfish402'), (413, 'heavyrabbit401'), (414, 'angryzebra539'), (415, 'sadzebra832'), (416, 'yellowrabbit840'), (417, 'purpleladybug978'), (418, 'whitefrog326'), (419, 'yellowzebra583'), (420, 'goldenmouse833'), (421, 'tinykoala674'), (422, 'crazyswan349'), (423, 'sadmouse371'), (424, 'ticklishbear610'), (425, 'goldenmouse388'), (426, 'smallmeercat546'), (427, 'angrymouse602'), (428, 'lazybutterfly333'), (429, 'organicladybug339'), (430, 'goldengorilla353'), (431, 'crazymeercat557'), (432, 'purpleleopard822'), (433, 'crazybird900'), (434, 'orangemeercat550'), (435, 'beautifulpanda491'), (436, 'bluerabbit183'), (437, 'tinygorilla176'), (438, 'sadostrich319'), (439, 'goldenwolf492'), (440, 'orangeduck566'), (441, 'orangefrog581'), (442, 'silvergorilla946'), (443, 'bigfrog914'), (444, 'crazypanda963'), (445, 'organiclion614'), (446, 'organicmeercat603'), (447, 'crazybird763'), (448, 'happypanda359'), (449, 'bigwolf901'), (450, 'smallgoose659'), (451, 'angryrabbit243'), (452, 'happypanda469'), (453, 'redgorilla540'), (454, 'greenelephant592'), (455, 'bluemouse202'), (456, 'yellowbear901'), (457, 'heavyduck647'), (458, 'lazyfish976'), (459, 'crazyswan508'), (460, 'smallelephant134'), (461, 'greenmeercat396'), (462, 'smalldog431'), (463, 'redcat137'), (464, 'bluefrog867'), (465, 'tinylion628'), (466, 'redswan835'), (467, 'orangerabbit875'), (468, 'redtiger113'), (469, 'redleopard373'), (470, 'biggoose299'), (471, 'lazybird149'), (472, 'whitefrog856'), (473, 'sadrabbit387'), (474, 'whiteswan402'), (475, 'sadostrich313'), (476, 'bigmouse805'), (477, 'organiccat507'), (478, 'goldentiger453'), (479, 'bluerabbit361'), (480, 'orangeduck198'), (481, 'whitekoala950'), (482, 'beautifuldog827'), (483, 'sadfish969'), (484, 'bigleopard200'), (485, 'bigzebra501'), (486, 'lazybear810'), (487, 'brownpeacock740'), (488, 'redcat407'), (489, 'bigbutterfly227'), (490, 'redleopard752'), (491, 'bigzebra696'), (492, 'brownrabbit717'), (493, 'blackwolf269'), (494, 'lazywolf307'), (495, 'greenbear930'), (496, 'crazyfish296'), (497, 'smallswan110'), (498, 'blackostrich749'), (499, 'sadgorilla838'), (500, 'greenfrog345'), (501, 'greensnake776'), (502, 'blackfrog193'), (503, 'ticklishlion483'), (504, 'organickoala209'), (505, 'smalltiger132'), (506, 'sadbear850'), (507, 'bigmouse807'), (508, 'orangeleopard764'), (509, 'goldengorilla799'), (510, 'crazyswan627'), (511, 'purpleladybug962'), (512, 'beautifulmeercat671'), (513, 'silvergorilla921'), (514, 'tinytiger278'), (515, 'purpletiger543'), (516, 'blackgorilla355'), (517, 'tinybear415'), (518, 'happyleopard236'), (519, 'ticklishostrich431'), (520, 'purplekoala556'), (521, 'blacksnake625'), (522, 'brownwolf224'), (523, 'smallpanda144'), (524, 'bigbutterfly767'), (525, 'tinyswan128'), (526, 'silverbear390'), (527, 'redsnake235'), (528, 'ticklishelephant103'), (529, 'greengoose124'), (530, 'purplekoala201')]\n"
          ],
          "name": "stdout"
        }
      ]
    },
    {
      "cell_type": "code",
      "metadata": {
        "id": "Lx9EzghT14NM",
        "colab_type": "code",
        "colab": {}
      },
      "source": [
        "## what is metadata?\n",
        "## metadata tells sqlalchemy what to expect when communicating with a database "
      ],
      "execution_count": 0,
      "outputs": []
    },
    {
      "cell_type": "code",
      "metadata": {
        "id": "j-lzqeTe17l0",
        "colab_type": "code",
        "colab": {}
      },
      "source": [
        "from sqlalchemy import *"
      ],
      "execution_count": 0,
      "outputs": []
    },
    {
      "cell_type": "code",
      "metadata": {
        "id": "7myH6PkM4ijj",
        "colab_type": "code",
        "colab": {}
      },
      "source": [
        "## descrining a database with Meadata\n",
        "## to use a database with native function\n",
        "## you need to describe this databse with metadata then we can easily apply the native command \n",
        "## insted of writing SQL\n",
        "metadata = MetaData()\n",
        "heroes_table = Table('heroes',metadata,\n",
        "                     Column('hero_id',Integer,nullable=False,primary_key=True),\n",
        "                     Column('name',String(20),nullable=False,unique=True)\n",
        "                     )"
      ],
      "execution_count": 0,
      "outputs": []
    },
    {
      "cell_type": "code",
      "metadata": {
        "id": "ijKrYo0c6K0p",
        "colab_type": "code",
        "colab": {
          "base_uri": "https://localhost:8080/",
          "height": 54
        },
        "outputId": "bf770450-0bef-48d4-c86f-fbfc39786b12"
      },
      "source": [
        "heroes_table"
      ],
      "execution_count": 18,
      "outputs": [
        {
          "output_type": "execute_result",
          "data": {
            "text/plain": [
              "Table('heroes', MetaData(bind=None), Column('hero_id', Integer(), table=<heroes>, primary_key=True, nullable=False), Column('name', String(length=20), table=<heroes>, nullable=False), schema=None)"
            ]
          },
          "metadata": {
            "tags": []
          },
          "execution_count": 18
        }
      ]
    },
    {
      "cell_type": "code",
      "metadata": {
        "id": "8kMmBLcz6Ndi",
        "colab_type": "code",
        "colab": {
          "base_uri": "https://localhost:8080/",
          "height": 54
        },
        "outputId": "2c6381bb-2363-4ba0-d844-c44d25b39c7e"
      },
      "source": [
        "## now fetch the same data with the select command\n",
        "from sqlalchemy.sql import select \n",
        "query = select([heroes_table]) ## select * from heroes\n",
        "results = connection.execute(query)\n",
        "print(results.fetchall())"
      ],
      "execution_count": 19,
      "outputs": [
        {
          "output_type": "stream",
          "text": [
            "[(1, 'Crareek'), (2, 'Tan'), (3, 'Huzzt'), (4, 'Pamble'), (5, 'Grimm'), (6, 'Jarboyd'), (7, 'Cyne'), (8, 'Wendner'), (9, 'Morbid'), (10, 'Grrdy'), (11, 'Nirty'), (12, 'Hillstomp'), (13, 'Frost'), (14, 'Massive'), (15, 'Greez'), (16, 'Mulberry'), (17, 'Drogfisher'), (18, 'Mako'), (19, 'Jade'), (20, 'Ansmoke'), (21, 'Tarys'), (22, 'Mitanic'), (23, 'Oracle'), (24, 'Swift'), (25, 'Dull'), (26, 'Gomezoo'), (27, 'Bonelegs'), (28, 'Perabiel'), (29, 'Marzuzu'), (30, 'Dratic'), (31, 'Harms'), (32, 'Pierceslight'), (33, 'Tustink'), (34, 'Uriel'), (35, 'Moptop'), (36, 'Dexir'), (37, 'Stinkharper'), (38, 'Crane'), (39, 'Silver'), (40, 'Metal'), (41, 'Pontihill'), (42, 'Cinder'), (43, 'Hudigo'), (44, 'James'), (45, 'Turir'), (46, 'Silverra'), (47, 'Raindon'), (48, 'Tyrant'), (49, 'Zoq'), (50, 'Lolliray'), (51, 'Leexie'), (52, 'Thunder'), (53, 'Star'), (54, 'Kenbow'), (55, 'Harribas'), (56, 'Cookerry'), (57, 'Meta'), (58, 'Femien'), (59, 'Wright'), (60, 'Skylly'), (61, 'Dayshimmer'), (62, 'Grindywatson'), (63, 'Shockclaw'), (64, 'Fanglson'), (65, 'Kellyclop'), (66, 'Raine'), (67, 'Kiki'), (68, 'Shadowend'), (69, 'Crystal'), (70, 'Pador'), (71, 'Cookie'), (72, 'Slicer'), (73, 'Viserwart'), (74, 'Dyden'), (75, 'Netor'), (76, 'Betrayry'), (77, 'Thistle'), (78, 'Zunabar'), (79, 'Gombo'), (80, 'Deaddaniels'), (81, 'HellvisWebbrek'), (82, 'Henrycruncher'), (83, 'Ufor'), (84, 'Marell'), (85, 'Gnodez'), (86, 'Skyhall'), (87, 'Frostbite'), (88, 'Whiten'), (89, 'Dracrcia'), (90, 'Karla'), (91, 'Nighish'), (92, 'Sabon'), (93, 'Snaglak'), (94, 'Hoodah'), (95, 'Zulkis'), (96, 'Nek'), (97, 'Mooreverse'), (98, 'Rogo'), (99, 'Azcox'), (100, 'Grindyllen'), (101, 'Spirit'), (102, 'Orpop'), (103, 'Lath'), (104, 'Abby'), (105, 'Acktosh'), (106, 'Stewartkor'), (107, 'Shhes'), (108, 'Webbrek'), (109, 'Chuz'), (110, 'Torrela'), (111, 'Total'), (112, 'Iron'), (113, 'Mystic'), (114, 'Gott'), (115, 'Scarlet'), (116, 'Brooksheart'), (117, 'Hernandecheek'), (118, 'Gnompson'), (119, 'Hawkinswimmer'), (120, 'Fisherwolf'), (121, 'Mashark'), (122, 'Onorray')]\n"
          ],
          "name": "stdout"
        }
      ]
    },
    {
      "cell_type": "code",
      "metadata": {
        "id": "QHhSONAC6hpX",
        "colab_type": "code",
        "colab": {
          "base_uri": "https://localhost:8080/",
          "height": 34
        },
        "outputId": "20fd5577-0c25-433f-a8a0-dc1300f948c9"
      },
      "source": [
        "## querying the data from the database\n",
        "## we can access the databse column\n",
        "## by this command\n",
        "heroes_table.columns.hero_id"
      ],
      "execution_count": 20,
      "outputs": [
        {
          "output_type": "execute_result",
          "data": {
            "text/plain": [
              "Column('hero_id', Integer(), table=<heroes>, primary_key=True, nullable=False)"
            ]
          },
          "metadata": {
            "tags": []
          },
          "execution_count": 20
        }
      ]
    },
    {
      "cell_type": "code",
      "metadata": {
        "id": "1JJq0TrI6qjD",
        "colab_type": "code",
        "colab": {
          "base_uri": "https://localhost:8080/",
          "height": 34
        },
        "outputId": "b35d18a1-2d7b-488b-8707-920425d6b0b8"
      },
      "source": [
        "heroes_table.columns.name"
      ],
      "execution_count": 21,
      "outputs": [
        {
          "output_type": "execute_result",
          "data": {
            "text/plain": [
              "Column('name', String(length=20), table=<heroes>, nullable=False)"
            ]
          },
          "metadata": {
            "tags": []
          },
          "execution_count": 21
        }
      ]
    },
    {
      "cell_type": "code",
      "metadata": {
        "id": "6Fzb6Ar26tqx",
        "colab_type": "code",
        "colab": {
          "base_uri": "https://localhost:8080/",
          "height": 54
        },
        "outputId": "7785ff25-9caa-468b-9fbb-ad90df057ab3"
      },
      "source": [
        "## we query he databse using boolian expression\n",
        "## so we can use operator to search the data\n",
        "## query a c specfic column from the database\n",
        "query = select([heroes_table.columns.name])\n",
        "result = connection.execute(query)\n",
        "print(result.fetchall()) ## select name from the heros_table;"
      ],
      "execution_count": 22,
      "outputs": [
        {
          "output_type": "stream",
          "text": [
            "[('Crareek',), ('Tan',), ('Huzzt',), ('Pamble',), ('Grimm',), ('Jarboyd',), ('Cyne',), ('Wendner',), ('Morbid',), ('Grrdy',), ('Nirty',), ('Hillstomp',), ('Frost',), ('Massive',), ('Greez',), ('Mulberry',), ('Drogfisher',), ('Mako',), ('Jade',), ('Ansmoke',), ('Tarys',), ('Mitanic',), ('Oracle',), ('Swift',), ('Dull',), ('Gomezoo',), ('Bonelegs',), ('Perabiel',), ('Marzuzu',), ('Dratic',), ('Harms',), ('Pierceslight',), ('Tustink',), ('Uriel',), ('Moptop',), ('Dexir',), ('Stinkharper',), ('Crane',), ('Silver',), ('Metal',), ('Pontihill',), ('Cinder',), ('Hudigo',), ('James',), ('Turir',), ('Silverra',), ('Raindon',), ('Tyrant',), ('Zoq',), ('Lolliray',), ('Leexie',), ('Thunder',), ('Star',), ('Kenbow',), ('Harribas',), ('Cookerry',), ('Meta',), ('Femien',), ('Wright',), ('Skylly',), ('Dayshimmer',), ('Grindywatson',), ('Shockclaw',), ('Fanglson',), ('Kellyclop',), ('Raine',), ('Kiki',), ('Shadowend',), ('Crystal',), ('Pador',), ('Cookie',), ('Slicer',), ('Viserwart',), ('Dyden',), ('Netor',), ('Betrayry',), ('Thistle',), ('Zunabar',), ('Gombo',), ('Deaddaniels',), ('HellvisWebbrek',), ('Henrycruncher',), ('Ufor',), ('Marell',), ('Gnodez',), ('Skyhall',), ('Frostbite',), ('Whiten',), ('Dracrcia',), ('Karla',), ('Nighish',), ('Sabon',), ('Snaglak',), ('Hoodah',), ('Zulkis',), ('Nek',), ('Mooreverse',), ('Rogo',), ('Azcox',), ('Grindyllen',), ('Spirit',), ('Orpop',), ('Lath',), ('Abby',), ('Acktosh',), ('Stewartkor',), ('Shhes',), ('Webbrek',), ('Chuz',), ('Torrela',), ('Total',), ('Iron',), ('Mystic',), ('Gott',), ('Scarlet',), ('Brooksheart',), ('Hernandecheek',), ('Gnompson',), ('Hawkinswimmer',), ('Fisherwolf',), ('Mashark',), ('Onorray',)]\n"
          ],
          "name": "stdout"
        }
      ]
    },
    {
      "cell_type": "code",
      "metadata": {
        "id": "WgAIt7tw8Y4J",
        "colab_type": "code",
        "colab": {
          "base_uri": "https://localhost:8080/",
          "height": 34
        },
        "outputId": "07a04274-05cf-412c-b0a5-67e8b2999a88"
      },
      "source": [
        "## chain of query of\n",
        "## select only 5 name from the database\n",
        "query = select([heroes_table.columns.name]).limit(5)\n",
        "result = connection.execute(query)\n",
        "print(result.fetchall())"
      ],
      "execution_count": 23,
      "outputs": [
        {
          "output_type": "stream",
          "text": [
            "[('Crareek',), ('Tan',), ('Huzzt',), ('Pamble',), ('Grimm',)]\n"
          ],
          "name": "stdout"
        }
      ]
    },
    {
      "cell_type": "code",
      "metadata": {
        "id": "Arl30hQZ81mq",
        "colab_type": "code",
        "colab": {
          "base_uri": "https://localhost:8080/",
          "height": 54
        },
        "outputId": "e16f4dd3-7cc5-4097-aaba-726fc4a08353"
      },
      "source": [
        "## if we want to query value after the first 5 then we use the offset command\n",
        "query = select([heroes_table]).offset(5).limit(10) ## so it will start from 6 and then print the next 10 item\n",
        "result = connection.execute(query)\n",
        "print(result.fetchall())"
      ],
      "execution_count": 24,
      "outputs": [
        {
          "output_type": "stream",
          "text": [
            "[(6, 'Jarboyd'), (7, 'Cyne'), (8, 'Wendner'), (9, 'Morbid'), (10, 'Grrdy'), (11, 'Nirty'), (12, 'Hillstomp'), (13, 'Frost'), (14, 'Massive'), (15, 'Greez')]\n"
          ],
          "name": "stdout"
        }
      ]
    },
    {
      "cell_type": "code",
      "metadata": {
        "id": "Wzw5dU_79UQH",
        "colab_type": "code",
        "colab": {
          "base_uri": "https://localhost:8080/",
          "height": 54
        },
        "outputId": "1ab756c6-4d74-4158-f8f2-ddbb01078ef1"
      },
      "source": [
        "## sort the dtaa\n",
        "## we can chain the requorments to sort \n",
        "query = select([heroes_table]).order_by(heroes_table.columns.name)  ## order by the name\n",
        "result = connection.execute(query)\n",
        "print(result.fetchall())"
      ],
      "execution_count": 25,
      "outputs": [
        {
          "output_type": "stream",
          "text": [
            "[(104, 'Abby'), (105, 'Acktosh'), (20, 'Ansmoke'), (99, 'Azcox'), (76, 'Betrayry'), (27, 'Bonelegs'), (116, 'Brooksheart'), (109, 'Chuz'), (42, 'Cinder'), (56, 'Cookerry'), (71, 'Cookie'), (38, 'Crane'), (1, 'Crareek'), (69, 'Crystal'), (7, 'Cyne'), (61, 'Dayshimmer'), (80, 'Deaddaniels'), (36, 'Dexir'), (89, 'Dracrcia'), (30, 'Dratic'), (17, 'Drogfisher'), (25, 'Dull'), (74, 'Dyden'), (64, 'Fanglson'), (58, 'Femien'), (120, 'Fisherwolf'), (13, 'Frost'), (87, 'Frostbite'), (85, 'Gnodez'), (118, 'Gnompson'), (79, 'Gombo'), (26, 'Gomezoo'), (114, 'Gott'), (15, 'Greez'), (5, 'Grimm'), (100, 'Grindyllen'), (62, 'Grindywatson'), (10, 'Grrdy'), (31, 'Harms'), (55, 'Harribas'), (119, 'Hawkinswimmer'), (81, 'HellvisWebbrek'), (82, 'Henrycruncher'), (117, 'Hernandecheek'), (12, 'Hillstomp'), (94, 'Hoodah'), (43, 'Hudigo'), (3, 'Huzzt'), (112, 'Iron'), (19, 'Jade'), (44, 'James'), (6, 'Jarboyd'), (90, 'Karla'), (65, 'Kellyclop'), (54, 'Kenbow'), (67, 'Kiki'), (103, 'Lath'), (51, 'Leexie'), (50, 'Lolliray'), (18, 'Mako'), (84, 'Marell'), (29, 'Marzuzu'), (121, 'Mashark'), (14, 'Massive'), (57, 'Meta'), (40, 'Metal'), (22, 'Mitanic'), (97, 'Mooreverse'), (35, 'Moptop'), (9, 'Morbid'), (16, 'Mulberry'), (113, 'Mystic'), (96, 'Nek'), (75, 'Netor'), (91, 'Nighish'), (11, 'Nirty'), (122, 'Onorray'), (23, 'Oracle'), (102, 'Orpop'), (70, 'Pador'), (4, 'Pamble'), (28, 'Perabiel'), (32, 'Pierceslight'), (41, 'Pontihill'), (47, 'Raindon'), (66, 'Raine'), (98, 'Rogo'), (92, 'Sabon'), (115, 'Scarlet'), (68, 'Shadowend'), (107, 'Shhes'), (63, 'Shockclaw'), (39, 'Silver'), (46, 'Silverra'), (86, 'Skyhall'), (60, 'Skylly'), (72, 'Slicer'), (93, 'Snaglak'), (101, 'Spirit'), (53, 'Star'), (106, 'Stewartkor'), (37, 'Stinkharper'), (24, 'Swift'), (2, 'Tan'), (21, 'Tarys'), (77, 'Thistle'), (52, 'Thunder'), (110, 'Torrela'), (111, 'Total'), (45, 'Turir'), (33, 'Tustink'), (48, 'Tyrant'), (83, 'Ufor'), (34, 'Uriel'), (73, 'Viserwart'), (108, 'Webbrek'), (8, 'Wendner'), (88, 'Whiten'), (59, 'Wright'), (49, 'Zoq'), (95, 'Zulkis'), (78, 'Zunabar')]\n"
          ],
          "name": "stdout"
        }
      ]
    },
    {
      "cell_type": "code",
      "metadata": {
        "id": "XxLGuh7c97V7",
        "colab_type": "code",
        "colab": {
          "base_uri": "https://localhost:8080/",
          "height": 54
        },
        "outputId": "808d60b4-cd95-40c8-b4d6-9186a1a9689c"
      },
      "source": [
        "## sort the dtaa\n",
        "## we can chain the requorments to sort \n",
        "## in here we can sorty it by the name and in descending order\n",
        "\n",
        "query = select([heroes_table]).order_by(heroes_table.columns.name.desc())  ## order by the name\n",
        "result = connection.execute(query)\n",
        "print(result.fetchall())"
      ],
      "execution_count": 26,
      "outputs": [
        {
          "output_type": "stream",
          "text": [
            "[(78, 'Zunabar'), (95, 'Zulkis'), (49, 'Zoq'), (59, 'Wright'), (88, 'Whiten'), (8, 'Wendner'), (108, 'Webbrek'), (73, 'Viserwart'), (34, 'Uriel'), (83, 'Ufor'), (48, 'Tyrant'), (33, 'Tustink'), (45, 'Turir'), (111, 'Total'), (110, 'Torrela'), (52, 'Thunder'), (77, 'Thistle'), (21, 'Tarys'), (2, 'Tan'), (24, 'Swift'), (37, 'Stinkharper'), (106, 'Stewartkor'), (53, 'Star'), (101, 'Spirit'), (93, 'Snaglak'), (72, 'Slicer'), (60, 'Skylly'), (86, 'Skyhall'), (46, 'Silverra'), (39, 'Silver'), (63, 'Shockclaw'), (107, 'Shhes'), (68, 'Shadowend'), (115, 'Scarlet'), (92, 'Sabon'), (98, 'Rogo'), (66, 'Raine'), (47, 'Raindon'), (41, 'Pontihill'), (32, 'Pierceslight'), (28, 'Perabiel'), (4, 'Pamble'), (70, 'Pador'), (102, 'Orpop'), (23, 'Oracle'), (122, 'Onorray'), (11, 'Nirty'), (91, 'Nighish'), (75, 'Netor'), (96, 'Nek'), (113, 'Mystic'), (16, 'Mulberry'), (9, 'Morbid'), (35, 'Moptop'), (97, 'Mooreverse'), (22, 'Mitanic'), (40, 'Metal'), (57, 'Meta'), (14, 'Massive'), (121, 'Mashark'), (29, 'Marzuzu'), (84, 'Marell'), (18, 'Mako'), (50, 'Lolliray'), (51, 'Leexie'), (103, 'Lath'), (67, 'Kiki'), (54, 'Kenbow'), (65, 'Kellyclop'), (90, 'Karla'), (6, 'Jarboyd'), (44, 'James'), (19, 'Jade'), (112, 'Iron'), (3, 'Huzzt'), (43, 'Hudigo'), (94, 'Hoodah'), (12, 'Hillstomp'), (117, 'Hernandecheek'), (82, 'Henrycruncher'), (81, 'HellvisWebbrek'), (119, 'Hawkinswimmer'), (55, 'Harribas'), (31, 'Harms'), (10, 'Grrdy'), (62, 'Grindywatson'), (100, 'Grindyllen'), (5, 'Grimm'), (15, 'Greez'), (114, 'Gott'), (26, 'Gomezoo'), (79, 'Gombo'), (118, 'Gnompson'), (85, 'Gnodez'), (87, 'Frostbite'), (13, 'Frost'), (120, 'Fisherwolf'), (58, 'Femien'), (64, 'Fanglson'), (74, 'Dyden'), (25, 'Dull'), (17, 'Drogfisher'), (30, 'Dratic'), (89, 'Dracrcia'), (36, 'Dexir'), (80, 'Deaddaniels'), (61, 'Dayshimmer'), (7, 'Cyne'), (69, 'Crystal'), (1, 'Crareek'), (38, 'Crane'), (71, 'Cookie'), (56, 'Cookerry'), (42, 'Cinder'), (109, 'Chuz'), (116, 'Brooksheart'), (27, 'Bonelegs'), (76, 'Betrayry'), (99, 'Azcox'), (20, 'Ansmoke'), (105, 'Acktosh'), (104, 'Abby')]\n"
          ],
          "name": "stdout"
        }
      ]
    },
    {
      "cell_type": "code",
      "metadata": {
        "id": "s7eIvZIJ-zd9",
        "colab_type": "code",
        "colab": {
          "base_uri": "https://localhost:8080/",
          "height": 54
        },
        "outputId": "302dfa4b-d4ff-4b05-c261-6fd140e65c3a"
      },
      "source": [
        "## in here we can sorty it by the name and in descending order\n",
        "\n",
        "query = select([heroes_table]).order_by(heroes_table.columns.hero_id.desc())  ## order by the name\n",
        "result = connection.execute(query)\n",
        "print(result.fetchall())"
      ],
      "execution_count": 27,
      "outputs": [
        {
          "output_type": "stream",
          "text": [
            "[(122, 'Onorray'), (121, 'Mashark'), (120, 'Fisherwolf'), (119, 'Hawkinswimmer'), (118, 'Gnompson'), (117, 'Hernandecheek'), (116, 'Brooksheart'), (115, 'Scarlet'), (114, 'Gott'), (113, 'Mystic'), (112, 'Iron'), (111, 'Total'), (110, 'Torrela'), (109, 'Chuz'), (108, 'Webbrek'), (107, 'Shhes'), (106, 'Stewartkor'), (105, 'Acktosh'), (104, 'Abby'), (103, 'Lath'), (102, 'Orpop'), (101, 'Spirit'), (100, 'Grindyllen'), (99, 'Azcox'), (98, 'Rogo'), (97, 'Mooreverse'), (96, 'Nek'), (95, 'Zulkis'), (94, 'Hoodah'), (93, 'Snaglak'), (92, 'Sabon'), (91, 'Nighish'), (90, 'Karla'), (89, 'Dracrcia'), (88, 'Whiten'), (87, 'Frostbite'), (86, 'Skyhall'), (85, 'Gnodez'), (84, 'Marell'), (83, 'Ufor'), (82, 'Henrycruncher'), (81, 'HellvisWebbrek'), (80, 'Deaddaniels'), (79, 'Gombo'), (78, 'Zunabar'), (77, 'Thistle'), (76, 'Betrayry'), (75, 'Netor'), (74, 'Dyden'), (73, 'Viserwart'), (72, 'Slicer'), (71, 'Cookie'), (70, 'Pador'), (69, 'Crystal'), (68, 'Shadowend'), (67, 'Kiki'), (66, 'Raine'), (65, 'Kellyclop'), (64, 'Fanglson'), (63, 'Shockclaw'), (62, 'Grindywatson'), (61, 'Dayshimmer'), (60, 'Skylly'), (59, 'Wright'), (58, 'Femien'), (57, 'Meta'), (56, 'Cookerry'), (55, 'Harribas'), (54, 'Kenbow'), (53, 'Star'), (52, 'Thunder'), (51, 'Leexie'), (50, 'Lolliray'), (49, 'Zoq'), (48, 'Tyrant'), (47, 'Raindon'), (46, 'Silverra'), (45, 'Turir'), (44, 'James'), (43, 'Hudigo'), (42, 'Cinder'), (41, 'Pontihill'), (40, 'Metal'), (39, 'Silver'), (38, 'Crane'), (37, 'Stinkharper'), (36, 'Dexir'), (35, 'Moptop'), (34, 'Uriel'), (33, 'Tustink'), (32, 'Pierceslight'), (31, 'Harms'), (30, 'Dratic'), (29, 'Marzuzu'), (28, 'Perabiel'), (27, 'Bonelegs'), (26, 'Gomezoo'), (25, 'Dull'), (24, 'Swift'), (23, 'Oracle'), (22, 'Mitanic'), (21, 'Tarys'), (20, 'Ansmoke'), (19, 'Jade'), (18, 'Mako'), (17, 'Drogfisher'), (16, 'Mulberry'), (15, 'Greez'), (14, 'Massive'), (13, 'Frost'), (12, 'Hillstomp'), (11, 'Nirty'), (10, 'Grrdy'), (9, 'Morbid'), (8, 'Wendner'), (7, 'Cyne'), (6, 'Jarboyd'), (5, 'Grimm'), (4, 'Pamble'), (3, 'Huzzt'), (2, 'Tan'), (1, 'Crareek')]\n"
          ],
          "name": "stdout"
        }
      ]
    },
    {
      "cell_type": "code",
      "metadata": {
        "id": "Kc0l1YM8-46-",
        "colab_type": "code",
        "colab": {
          "base_uri": "https://localhost:8080/",
          "height": 34
        },
        "outputId": "7daa38d5-ea34-4a34-db5e-77f321d0a6c3"
      },
      "source": [
        "## adding more chain in the query\n",
        "query = select([heroes_table]).offset(5).limit(5).order_by(heroes_table.columns.hero_id.desc())\n",
        "result = connection.execute(query)\n",
        "print(result.fetchall())"
      ],
      "execution_count": 28,
      "outputs": [
        {
          "output_type": "stream",
          "text": [
            "[(117, 'Hernandecheek'), (116, 'Brooksheart'), (115, 'Scarlet'), (114, 'Gott'), (113, 'Mystic')]\n"
          ],
          "name": "stdout"
        }
      ]
    },
    {
      "cell_type": "code",
      "metadata": {
        "id": "aGtP0qWf_cqx",
        "colab_type": "code",
        "colab": {
          "base_uri": "https://localhost:8080/",
          "height": 34
        },
        "outputId": "96d83b56-08ae-42e6-f887-d96fff84c098"
      },
      "source": [
        "## suing where clause\n",
        "query = select([heroes_table]).where((heroes_table.columns.hero_id>5) &(heroes_table.columns.hero_id<10))\n",
        "result = connection.execute(query)\n",
        "print(result.fetchall())"
      ],
      "execution_count": 29,
      "outputs": [
        {
          "output_type": "stream",
          "text": [
            "[(6, 'Jarboyd'), (7, 'Cyne'), (8, 'Wendner'), (9, 'Morbid')]\n"
          ],
          "name": "stdout"
        }
      ]
    },
    {
      "cell_type": "code",
      "metadata": {
        "id": "Zs0H-O82AKa2",
        "colab_type": "code",
        "colab": {
          "base_uri": "https://localhost:8080/",
          "height": 54
        },
        "outputId": "8042d64d-615b-4353-8e3b-79945220b8a6"
      },
      "source": [
        "## suing where clause\n",
        "query = select([heroes_table]).where((heroes_table.columns.hero_id<5) | (heroes_table.columns.hero_id>10)).limit(20)\n",
        "result = connection.execute(query)\n",
        "print(result.fetchall())"
      ],
      "execution_count": 30,
      "outputs": [
        {
          "output_type": "stream",
          "text": [
            "[(1, 'Crareek'), (2, 'Tan'), (3, 'Huzzt'), (4, 'Pamble'), (11, 'Nirty'), (12, 'Hillstomp'), (13, 'Frost'), (14, 'Massive'), (15, 'Greez'), (16, 'Mulberry'), (17, 'Drogfisher'), (18, 'Mako'), (19, 'Jade'), (20, 'Ansmoke'), (21, 'Tarys'), (22, 'Mitanic'), (23, 'Oracle'), (24, 'Swift'), (25, 'Dull'), (26, 'Gomezoo')]\n"
          ],
          "name": "stdout"
        }
      ]
    },
    {
      "cell_type": "code",
      "metadata": {
        "id": "m-t5fWQXATOo",
        "colab_type": "code",
        "colab": {
          "base_uri": "https://localhost:8080/",
          "height": 34
        },
        "outputId": "c943c394-b9ad-46de-e2fc-0ed59f23cc3a"
      },
      "source": [
        "## search a specfic row\n",
        "## suing where clause\n",
        "query = select([heroes_table]).where(heroes_table.columns.hero_id==5)\n",
        "result = connection.execute(query)\n",
        "print(result.fetchall())"
      ],
      "execution_count": 31,
      "outputs": [
        {
          "output_type": "stream",
          "text": [
            "[(5, 'Grimm')]\n"
          ],
          "name": "stdout"
        }
      ]
    },
    {
      "cell_type": "code",
      "metadata": {
        "id": "IE1cTqcnAfIH",
        "colab_type": "code",
        "colab": {
          "base_uri": "https://localhost:8080/",
          "height": 34
        },
        "outputId": "c1da880f-bd0c-4fc2-ffc4-c55a180d08ec"
      },
      "source": [
        "# adding another query\n",
        "## search a specfic row\n",
        "## using where clause\n",
        "query = select([heroes_table]).where((heroes_table.columns.hero_id==5) | (heroes_table.columns.hero_id==10) )\n",
        "result = connection.execute(query)\n",
        "print(result.fetchall())"
      ],
      "execution_count": 32,
      "outputs": [
        {
          "output_type": "stream",
          "text": [
            "[(5, 'Grimm'), (10, 'Grrdy')]\n"
          ],
          "name": "stdout"
        }
      ]
    },
    {
      "cell_type": "code",
      "metadata": {
        "id": "9HFEYm17AzoL",
        "colab_type": "code",
        "colab": {}
      },
      "source": [
        "## aggreratig the data"
      ],
      "execution_count": 0,
      "outputs": []
    },
    {
      "cell_type": "code",
      "metadata": {
        "id": "ZfU4Ii1uBCSf",
        "colab_type": "code",
        "colab": {}
      },
      "source": [
        "## we can do aliasing the column nam we can used for multiple uses \n",
        "## column aliasing will be used as a data aggregation\n",
        "## and join query\n",
        "## you have to explextly describe the key which you want to aliase\n",
        "## and what else you want to fetch\n",
        "query = select([heroes_table.columns.hero_id.label(\"key\"),heroes_table.columns.name]).limit(20)\n",
        "result = connection.execute(query)"
      ],
      "execution_count": 0,
      "outputs": []
    },
    {
      "cell_type": "code",
      "metadata": {
        "id": "R4qWiLQwDvu2",
        "colab_type": "code",
        "colab": {
          "base_uri": "https://localhost:8080/",
          "height": 357
        },
        "outputId": "56f267ec-2163-4fc6-c46f-16aaeb32432f"
      },
      "source": [
        "## this time we are going to iterate through the data\n",
        "\n",
        "for row in result:\n",
        "  print(row.items())"
      ],
      "execution_count": 35,
      "outputs": [
        {
          "output_type": "stream",
          "text": [
            "[('key', 1), ('name', 'Crareek')]\n",
            "[('key', 2), ('name', 'Tan')]\n",
            "[('key', 3), ('name', 'Huzzt')]\n",
            "[('key', 4), ('name', 'Pamble')]\n",
            "[('key', 5), ('name', 'Grimm')]\n",
            "[('key', 6), ('name', 'Jarboyd')]\n",
            "[('key', 7), ('name', 'Cyne')]\n",
            "[('key', 8), ('name', 'Wendner')]\n",
            "[('key', 9), ('name', 'Morbid')]\n",
            "[('key', 10), ('name', 'Grrdy')]\n",
            "[('key', 11), ('name', 'Nirty')]\n",
            "[('key', 12), ('name', 'Hillstomp')]\n",
            "[('key', 13), ('name', 'Frost')]\n",
            "[('key', 14), ('name', 'Massive')]\n",
            "[('key', 15), ('name', 'Greez')]\n",
            "[('key', 16), ('name', 'Mulberry')]\n",
            "[('key', 17), ('name', 'Drogfisher')]\n",
            "[('key', 18), ('name', 'Mako')]\n",
            "[('key', 19), ('name', 'Jade')]\n",
            "[('key', 20), ('name', 'Ansmoke')]\n"
          ],
          "name": "stdout"
        }
      ]
    },
    {
      "cell_type": "code",
      "metadata": {
        "id": "v50KjvPFE9o3",
        "colab_type": "code",
        "colab": {}
      },
      "source": [
        "## make aggragating data\n",
        "## import new table in database\n",
        "## and add the metadata to work with\n",
        "## you can take partial portion of the table and work with it\n",
        "## here we ingone the foreign key\n",
        "## you can skip things you dont need\n",
        "batle_events_table = Table('battle_events',metadata,\n",
        "                           Column('battle_event_id',Integer,nullable=False,primary_key=True),\n",
        "                           Column('battle_participant_id',Integer,nullable=False,primary_key=True),\n",
        "                           Column('rubies_gained',Integer,nullable=False,primary_key=True),\n",
        "                           Column('timestamp',Integer,nullable=False,primary_key=True),\n",
        "                           \n",
        "                           )\n"
      ],
      "execution_count": 0,
      "outputs": []
    },
    {
      "cell_type": "code",
      "metadata": {
        "id": "jlllut2pIf77",
        "colab_type": "code",
        "colab": {
          "base_uri": "https://localhost:8080/",
          "height": 34
        },
        "outputId": "a89e52a5-72da-48b1-bfea-1157609b85f4"
      },
      "source": [
        "query = select([batle_events_table]).limit(5)\n",
        "result = connection.execute(query)\n",
        "print(result.fetchall())"
      ],
      "execution_count": 37,
      "outputs": [
        {
          "output_type": "stream",
          "text": [
            "[(1, 5, 3, 6723), (2, 5, 5, 7680), (3, 1, 1, 8202), (4, 5, 5, 8441), (5, 1, 3, 9194)]\n"
          ],
          "name": "stdout"
        }
      ]
    },
    {
      "cell_type": "code",
      "metadata": {
        "id": "9taNG72FIqok",
        "colab_type": "code",
        "colab": {}
      },
      "source": [
        "### aggragate funcion goes here"
      ],
      "execution_count": 0,
      "outputs": []
    },
    {
      "cell_type": "code",
      "metadata": {
        "id": "cIZw_j53B6HD",
        "colab_type": "code",
        "colab": {
          "base_uri": "https://localhost:8080/",
          "height": 34
        },
        "outputId": "76f9aca8-0f06-4508-94c0-e3d0139035b1"
      },
      "source": [
        "## there is fun function with aggrate function\n",
        "### calculate the sum\n",
        "query = select([func.sum(batle_events_table.columns.rubies_gained)])\n",
        "result = connection.execute(query)\n",
        "print(result.scalar())"
      ],
      "execution_count": 39,
      "outputs": [
        {
          "output_type": "stream",
          "text": [
            "72847\n"
          ],
          "name": "stdout"
        }
      ]
    },
    {
      "cell_type": "code",
      "metadata": {
        "id": "ncRXaqaaCXF5",
        "colab_type": "code",
        "colab": {}
      },
      "source": [
        "## join query\n",
        "## goes here\n",
        "## first\n",
        "## remove the metadata\n",
        "metadata.remove(batle_events_table)"
      ],
      "execution_count": 0,
      "outputs": []
    },
    {
      "cell_type": "code",
      "metadata": {
        "id": "lmY8UmNRDLM9",
        "colab_type": "code",
        "colab": {}
      },
      "source": [
        "batle_events_table = Table('battle_events',metadata,\n",
        "                           Column('battle_event_id',Integer,nullable=False,primary_key=True),\n",
        "                           Column('battle_participant_id',Integer,ForeignKey('battle_participants.battle_participant_id'),nullable=False,primary_key=True),\n",
        "                           Column('battle_event_type_id',Integer,ForeignKey('battle_event_types.battle_event_type_id')),\n",
        "                           Column('rubies_gained',Integer,nullable=False,primary_key=True),\n",
        "                           Column('timestamp',Integer,nullable=False,primary_key=True),\n",
        "                           \n",
        "                           )\n"
      ],
      "execution_count": 0,
      "outputs": []
    },
    {
      "cell_type": "code",
      "metadata": {
        "id": "GBRC9YwsGQg3",
        "colab_type": "code",
        "colab": {
          "base_uri": "https://localhost:8080/",
          "height": 34
        },
        "outputId": "0bd13539-43b7-4e17-b169-b65b6fdea7a3"
      },
      "source": [
        "query = select([batle_events_table]).limit(5)\n",
        "result = connection.execute(query)\n",
        "print(result.fetchall())"
      ],
      "execution_count": 42,
      "outputs": [
        {
          "output_type": "stream",
          "text": [
            "[(1, 5, 3, 3, 6723), (2, 5, 3, 5, 7680), (3, 1, 3, 1, 8202), (4, 5, 3, 5, 8441), (5, 1, 3, 3, 9194)]\n"
          ],
          "name": "stdout"
        }
      ]
    },
    {
      "cell_type": "code",
      "metadata": {
        "id": "ga77ucIAGka3",
        "colab_type": "code",
        "colab": {}
      },
      "source": [
        "batle_participent_table = Table('battle_participants',metadata,\n",
        "                                Column('battle_participant_id',Integer,nullable=False,primary_key = True),\n",
        "                                Column('user_id',Integer,ForeignKey('users.user_id'),nullable=False,primary_key = True),\n",
        "                                Column('battle_id',Integer,nullable=False,primary_key = True),\n",
        "                                Column('hero_id',Integer,ForeignKey('heroes.hero_id'),nullable=False,primary_key = True),\n",
        "                                )"
      ],
      "execution_count": 0,
      "outputs": []
    },
    {
      "cell_type": "code",
      "metadata": {
        "id": "PQJpO8jWHtNx",
        "colab_type": "code",
        "colab": {}
      },
      "source": [
        "batle_event_type = Table('battle_event_types',metadata,\n",
        "                                Column('battle_event_type_id',Integer,nullable=False,primary_key = True),\n",
        "                                Column('name',String(20),nullable=False),\n",
        "                                )"
      ],
      "execution_count": 0,
      "outputs": []
    },
    {
      "cell_type": "code",
      "metadata": {
        "id": "bBB2xb4sIeA0",
        "colab_type": "code",
        "colab": {}
      },
      "source": [
        "## now join the table \n",
        "## with .join command\n",
        "\n",
        "join = batle_participent_table.join(batle_events_table,batle_participent_table.columns.battle_participant_id==batle_events_table.columns.battle_participant_id).join(heroes_table,batle_participent_table.columns.hero_id == heroes_table.columns.hero_id)"
      ],
      "execution_count": 0,
      "outputs": []
    },
    {
      "cell_type": "code",
      "metadata": {
        "id": "biO7Bru6KCh1",
        "colab_type": "code",
        "colab": {
          "base_uri": "https://localhost:8080/",
          "height": 54
        },
        "outputId": "c68d8aac-7e66-4938-e5ed-361ba836d8a6"
      },
      "source": [
        "join"
      ],
      "execution_count": 53,
      "outputs": [
        {
          "output_type": "execute_result",
          "data": {
            "text/plain": [
              "<sqlalchemy.sql.selectable.Join at 0x7fdde9086940; Join object on Join object on battle_participants(140591074401360) and battle_events(140591074398840)(140591074144096) and heroes(140591081758672)>"
            ]
          },
          "metadata": {
            "tags": []
          },
          "execution_count": 53
        }
      ]
    },
    {
      "cell_type": "code",
      "metadata": {
        "id": "PtjquF0_KDn5",
        "colab_type": "code",
        "colab": {
          "base_uri": "https://localhost:8080/",
          "height": 34
        },
        "outputId": "a5d31ad9-eaa3-4949-edbd-21a7bd48b36f"
      },
      "source": [
        "join.description"
      ],
      "execution_count": 59,
      "outputs": [
        {
          "output_type": "execute_result",
          "data": {
            "text/plain": [
              "'Join object on Join object on battle_participants(140591074401360) and battle_events(140591074398840)(140591074163904) and heroes(140591081758672)'"
            ]
          },
          "metadata": {
            "tags": []
          },
          "execution_count": 59
        }
      ]
    },
    {
      "cell_type": "code",
      "metadata": {
        "id": "py2vftDbKHGw",
        "colab_type": "code",
        "colab": {}
      },
      "source": [
        "## we join the battle participents and battle events and heros table"
      ],
      "execution_count": 0,
      "outputs": []
    },
    {
      "cell_type": "code",
      "metadata": {
        "id": "WDvCcENcKaM0",
        "colab_type": "code",
        "colab": {}
      },
      "source": [
        "## we need to find which heros did the most battle\n",
        "## we need two use the heros table and battle_events table\n",
        "## we join three table because we dont have direct connection\n",
        "## and we will query with the join table\n",
        "## and aliasing a table name\n",
        "query = select([heroes_table.columns.name,func.count(batle_events_table.columns.battle_event_id).label(\"total_events\")]).select_from(join).group_by(heroes_table.columns.name).order_by(Column(\"total_events\").desc())"
      ],
      "execution_count": 0,
      "outputs": []
    },
    {
      "cell_type": "code",
      "metadata": {
        "id": "nwpQ-FUuLrMl",
        "colab_type": "code",
        "colab": {}
      },
      "source": [
        "results = connection.execute(query)"
      ],
      "execution_count": 0,
      "outputs": []
    },
    {
      "cell_type": "code",
      "metadata": {
        "id": "3SwDoNhiMhyW",
        "colab_type": "code",
        "colab": {
          "base_uri": "https://localhost:8080/",
          "height": 170
        },
        "outputId": "b2823193-f4f2-462a-a5af-637350504842"
      },
      "source": [
        "results.fetchall()"
      ],
      "execution_count": 66,
      "outputs": [
        {
          "output_type": "execute_result",
          "data": {
            "text/plain": [
              "[('Crareek', 3687),\n",
              " ('Pamble', 2054),\n",
              " ('Huzzt', 2036),\n",
              " ('Tan', 1946),\n",
              " ('Grimm', 1820),\n",
              " ('Jade', 1780),\n",
              " ('Hillstomp', 1736),\n",
              " ('Mako', 1719),\n",
              " ('Grrdy', 1528)]"
            ]
          },
          "metadata": {
            "tags": []
          },
          "execution_count": 66
        }
      ]
    },
    {
      "cell_type": "code",
      "metadata": {
        "id": "hg9v9yCOMlU3",
        "colab_type": "code",
        "colab": {}
      },
      "source": [
        "## you have to remember if a table is connected with other table cia another table and not directly conneected then\n",
        "## you need to join the other table too"
      ],
      "execution_count": 0,
      "outputs": []
    },
    {
      "cell_type": "code",
      "metadata": {
        "id": "Mmq1lKciM0Rv",
        "colab_type": "code",
        "colab": {}
      },
      "source": [
        ""
      ],
      "execution_count": 0,
      "outputs": []
    }
  ]
}